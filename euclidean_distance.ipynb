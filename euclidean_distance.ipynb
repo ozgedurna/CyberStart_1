{
  "nbformat": 4,
  "nbformat_minor": 0,
  "metadata": {
    "colab": {
      "provenance": [],
      "authorship_tag": "ABX9TyN64CLrTwqxMhtK/PcfRh+s",
      "include_colab_link": true
    },
    "kernelspec": {
      "name": "python3",
      "display_name": "Python 3"
    },
    "language_info": {
      "name": "python"
    }
  },
  "cells": [
    {
      "cell_type": "markdown",
      "metadata": {
        "id": "view-in-github",
        "colab_type": "text"
      },
      "source": [
        "<a href=\"https://colab.research.google.com/github/ozgedurna/CyberStart_1/blob/main/euclidean_distance.ipynb\" target=\"_parent\"><img src=\"https://colab.research.google.com/assets/colab-badge.svg\" alt=\"Open In Colab\"/></a>"
      ]
    },
    {
      "cell_type": "code",
      "execution_count": 2,
      "metadata": {
        "id": "YB9TaAR-fXK9"
      },
      "outputs": [],
      "source": [
        "import math\n",
        "points = [(1, 2), (4, 6), (5, 8), (9, 10), (2, 3)] #örnek noktaları içeren points adında bir liste oluşturuyorum.\n",
        "def euclideanDistance(p1,p2):  #euclideanDistance iki nokta arasındaki öklid mesafesini belirleyen bir fonksiyondur.\n",
        "  return math.sqrt((p2[0]-p1[0])**2+ (p2[1]-p1[1])**2) #öklid formülünü kullanarak  x ve y eksenlerindeki farkların tek tek karesini alıyor ve math.sqrt fonksiyonuyla formülde çıkan sonucun karekökünü alıyorum."
      ]
    },
    {
      "cell_type": "code",
      "source": [
        "#çıkan sonuçları saklamak için distances adinda boş bir liste oluşturuyorum.\n",
        "distances=[]"
      ],
      "metadata": {
        "id": "SBEBjCINhHtp"
      },
      "execution_count": 3,
      "outputs": []
    },
    {
      "cell_type": "code",
      "source": [
        "for i in  range(len(points)): # şimdi points listesinin uzunluğu kadar yani listedeki her değer için döngüye alıyorum.\n",
        "   for j in range(i+1, len(points)): #i'den bir sonraki indeksten başlayarak bir döngü daha oluşturuyorum ki noktalar tekrar etmesin.\n",
        "     distance = euclideanDistance(points[i], points[j]) #i ve j indeksleri için öklid mesafesini buluyorum .\n",
        "     distances.append(distance) #bulduğum sonuçları distances listesinde saklıyorum.\n",
        "     print(f\"mesafe {points[i]} ile {points[j]} arasında: {distance}\")"
      ],
      "metadata": {
        "colab": {
          "base_uri": "https://localhost:8080/"
        },
        "id": "5Mry4SztkZt4",
        "outputId": "84e9ad5a-48cc-4da5-afc3-5e29cc0973a0"
      },
      "execution_count": 18,
      "outputs": [
        {
          "output_type": "stream",
          "name": "stdout",
          "text": [
            "mesafe (1, 2) ile (4, 6) arasında: 5.0\n",
            "mesafe (1, 2) ile (5, 8) arasında: 7.211102550927978\n",
            "mesafe (1, 2) ile (9, 10) arasında: 11.313708498984761\n",
            "mesafe (1, 2) ile (2, 3) arasında: 1.4142135623730951\n",
            "mesafe (4, 6) ile (5, 8) arasında: 2.23606797749979\n",
            "mesafe (4, 6) ile (9, 10) arasında: 6.4031242374328485\n",
            "mesafe (4, 6) ile (2, 3) arasında: 3.605551275463989\n",
            "mesafe (5, 8) ile (9, 10) arasında: 4.47213595499958\n",
            "mesafe (5, 8) ile (2, 3) arasında: 5.830951894845301\n",
            "mesafe (9, 10) ile (2, 3) arasında: 9.899494936611665\n"
          ]
        }
      ]
    },
    {
      "cell_type": "code",
      "source": [
        "#listedeki minimum mesafeyi yazdırıyorum.\n",
        "min_dist = min(distances)\n",
        "print(f\"minimum mesafe: {min_dist}\")"
      ],
      "metadata": {
        "colab": {
          "base_uri": "https://localhost:8080/"
        },
        "id": "vp4MJKHc1Xi0",
        "outputId": "8049c9f5-05bb-4eb8-9771-ef8655c962c4"
      },
      "execution_count": 24,
      "outputs": [
        {
          "output_type": "stream",
          "name": "stdout",
          "text": [
            "minimum mesafe: 1.4142135623730951\n"
          ]
        }
      ]
    }
  ]
}